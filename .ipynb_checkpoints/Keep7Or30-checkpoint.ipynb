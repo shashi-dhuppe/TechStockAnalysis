{
 "cells": [
  {
   "cell_type": "code",
   "execution_count": 1,
   "id": "aging-pavilion",
   "metadata": {},
   "outputs": [],
   "source": [
    "import pandas as pd"
   ]
  },
  {
   "cell_type": "code",
   "execution_count": null,
   "id": "pleasant-spring",
   "metadata": {},
   "outputs": [],
   "source": [
    "# df is csv obtained after transformed stock\n",
    "df2 = df.iloc[:30,8:10].copy()\n",
    "c7,c30=0,0\n",
    "for i,j in df2.iterrows():\n",
    "    if j[0]>=0:\n",
    "        c7 = c30+1\n",
    "    if j[1]>=0:\n",
    "        c30 = c30+1\n",
    "        \n",
    "print(\"Based on dates from \"+str(df2.index[0])[:10] +\" to \"+str(df2.index[-1])[:10])\n",
    "if c7>c30:\n",
    "    print(\"Keep for 7 to 30 days\")\n",
    "else:\n",
    "    print(\"Keep for atleast 30 days\")"
   ]
  }
 ],
 "metadata": {
  "kernelspec": {
   "display_name": "Python 3",
   "language": "python",
   "name": "python3"
  },
  "language_info": {
   "codemirror_mode": {
    "name": "ipython",
    "version": 3
   },
   "file_extension": ".py",
   "mimetype": "text/x-python",
   "name": "python",
   "nbconvert_exporter": "python",
   "pygments_lexer": "ipython3",
   "version": "3.9.1"
  }
 },
 "nbformat": 4,
 "nbformat_minor": 5
}
