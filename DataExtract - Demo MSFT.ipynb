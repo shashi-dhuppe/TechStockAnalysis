{
 "cells": [
  {
   "cell_type": "code",
   "execution_count": 15,
   "id": "spoken-favor",
   "metadata": {},
   "outputs": [],
   "source": [
    "# Importing the Libraries\n",
    "\n",
    "import yfinance as yf\n",
    "import pymysql\n",
    "\n",
    "import config_stockAnalysis as csa"
   ]
  },
  {
   "cell_type": "code",
   "execution_count": 16,
   "id": "developed-hungary",
   "metadata": {},
   "outputs": [],
   "source": [
    "# This data extract is served as DEMO\n",
    "# The changes to be made will be using msft as an argument \n",
    "# and using the same ticker as filename while saving\n",
    "# This changes will be made as a py file\n",
    "# Which later would be converted as AWS Lambda service\n",
    "# Whose i/p is undecided\n",
    "# and whose o/p will be RDS Engine"
   ]
  },
  {
   "cell_type": "code",
   "execution_count": 17,
   "id": "awful-flooring",
   "metadata": {},
   "outputs": [],
   "source": [
    "# rds settings\n",
    "rds_host = csa.rds_host\n",
    "db_name = csa.db_name\n",
    "name = csa.name\n",
    "password = csa.password"
   ]
  },
  {
   "cell_type": "code",
   "execution_count": 18,
   "id": "bridal-brake",
   "metadata": {},
   "outputs": [
    {
     "name": "stdout",
     "output_type": "stream",
     "text": [
      "SUCCESS: Connection to RDS MySQL instance succeeded\n"
     ]
    }
   ],
   "source": [
    "try:\n",
    "    conn = pymysql.connect(host=rds_host, user=name, passwd=password, db=db_name,connect_timeout=5)\n",
    "    print(\"SUCCESS: Connection to RDS MySQL instance succeeded\")\n",
    "except pymysql.MySQLError as e:\n",
    "    print(\"ERROR: Unexpected error: Could not connect to MySQL instance.\")\n",
    "    print(e)"
   ]
  },
  {
   "cell_type": "code",
   "execution_count": 30,
   "id": "brown-blair",
   "metadata": {},
   "outputs": [
    {
     "name": "stdout",
     "output_type": "stream",
     "text": [
      "(1, 'Apple', 'AAPL', 0.9)\n",
      "(2, 'Microsoft', 'MSFT', 0.1)\n",
      "(3, None, 'T', None)\n",
      "(4, None, 'VNQ', None)\n",
      "(6, None, 'DIS', 0.3)\n",
      "(7, None, 'TSLA', 0.35)\n"
     ]
    }
   ],
   "source": [
    "# with conn.cursor() as cur:\n",
    "#     temp = \"Select * from Stock\"\n",
    "#     cur.execute(temp)\n",
    "#     conn.commit()\n",
    "        \n",
    "#     for row in cur:\n",
    "#         print(row)\n",
    "# conn.commit()"
   ]
  },
  {
   "cell_type": "code",
   "execution_count": 31,
   "id": "federal-memphis",
   "metadata": {},
   "outputs": [
    {
     "data": {
      "text/plain": [
       "(7, None, 'TSLA', 0.35)"
      ]
     },
     "execution_count": 31,
     "metadata": {},
     "output_type": "execute_result"
    }
   ],
   "source": [
    "row"
   ]
  },
  {
   "cell_type": "code",
   "execution_count": null,
   "id": "conditional-address",
   "metadata": {},
   "outputs": [],
   "source": []
  },
  {
   "cell_type": "code",
   "execution_count": null,
   "id": "innocent-fisher",
   "metadata": {},
   "outputs": [],
   "source": []
  },
  {
   "cell_type": "code",
   "execution_count": null,
   "id": "effective-dispute",
   "metadata": {},
   "outputs": [],
   "source": []
  },
  {
   "cell_type": "code",
   "execution_count": null,
   "id": "confused-state",
   "metadata": {},
   "outputs": [],
   "source": []
  },
  {
   "cell_type": "code",
   "execution_count": null,
   "id": "valid-angola",
   "metadata": {},
   "outputs": [],
   "source": []
  },
  {
   "cell_type": "code",
   "execution_count": null,
   "id": "positive-newton",
   "metadata": {},
   "outputs": [],
   "source": []
  },
  {
   "cell_type": "code",
   "execution_count": null,
   "id": "guided-matthew",
   "metadata": {},
   "outputs": [],
   "source": []
  },
  {
   "cell_type": "code",
   "execution_count": null,
   "id": "tight-summary",
   "metadata": {},
   "outputs": [],
   "source": []
  },
  {
   "cell_type": "code",
   "execution_count": null,
   "id": "general-flour",
   "metadata": {},
   "outputs": [],
   "source": []
  },
  {
   "cell_type": "code",
   "execution_count": 57,
   "id": "vulnerable-defensive",
   "metadata": {},
   "outputs": [],
   "source": [
    "ticker = \"MSFT\""
   ]
  },
  {
   "cell_type": "code",
   "execution_count": 58,
   "id": "deluxe-tackle",
   "metadata": {},
   "outputs": [],
   "source": [
    "# Starting from Microsoft\n",
    "stock = yf.Ticker(ticker)"
   ]
  },
  {
   "cell_type": "code",
   "execution_count": 59,
   "id": "placed-tackle",
   "metadata": {},
   "outputs": [],
   "source": [
    "df = stock.history(period=\"1d\").reset_index()"
   ]
  },
  {
   "cell_type": "code",
   "execution_count": 60,
   "id": "romance-tanzania",
   "metadata": {},
   "outputs": [
    {
     "data": {
      "text/html": [
       "<div>\n",
       "<style scoped>\n",
       "    .dataframe tbody tr th:only-of-type {\n",
       "        vertical-align: middle;\n",
       "    }\n",
       "\n",
       "    .dataframe tbody tr th {\n",
       "        vertical-align: top;\n",
       "    }\n",
       "\n",
       "    .dataframe thead th {\n",
       "        text-align: right;\n",
       "    }\n",
       "</style>\n",
       "<table border=\"1\" class=\"dataframe\">\n",
       "  <thead>\n",
       "    <tr style=\"text-align: right;\">\n",
       "      <th></th>\n",
       "      <th>Date</th>\n",
       "      <th>Open</th>\n",
       "      <th>High</th>\n",
       "      <th>Low</th>\n",
       "      <th>Close</th>\n",
       "      <th>Volume</th>\n",
       "      <th>Dividends</th>\n",
       "      <th>Stock Splits</th>\n",
       "    </tr>\n",
       "  </thead>\n",
       "  <tbody>\n",
       "    <tr>\n",
       "      <th>0</th>\n",
       "      <td>2021-10-12</td>\n",
       "      <td>295.339996</td>\n",
       "      <td>295.440002</td>\n",
       "      <td>292.350006</td>\n",
       "      <td>292.880005</td>\n",
       "      <td>17215595</td>\n",
       "      <td>0</td>\n",
       "      <td>0</td>\n",
       "    </tr>\n",
       "  </tbody>\n",
       "</table>\n",
       "</div>"
      ],
      "text/plain": [
       "        Date        Open        High         Low       Close    Volume  \\\n",
       "0 2021-10-12  295.339996  295.440002  292.350006  292.880005  17215595   \n",
       "\n",
       "   Dividends  Stock Splits  \n",
       "0          0             0  "
      ]
     },
     "execution_count": 60,
     "metadata": {},
     "output_type": "execute_result"
    }
   ],
   "source": [
    "df"
   ]
  },
  {
   "cell_type": "code",
   "execution_count": 61,
   "id": "floating-hartford",
   "metadata": {},
   "outputs": [],
   "source": [
    "dfl = list(df.iloc[0,:5])"
   ]
  },
  {
   "cell_type": "code",
   "execution_count": 62,
   "id": "pregnant-glenn",
   "metadata": {},
   "outputs": [
    {
     "data": {
      "text/plain": [
       "[Timestamp('2021-10-12 00:00:00'),\n",
       " 295.3399963378906,\n",
       " 295.44000244140625,\n",
       " 292.3500061035156,\n",
       " 292.8800048828125]"
      ]
     },
     "execution_count": 62,
     "metadata": {},
     "output_type": "execute_result"
    }
   ],
   "source": [
    "dfl"
   ]
  },
  {
   "cell_type": "code",
   "execution_count": 63,
   "id": "private-aging",
   "metadata": {},
   "outputs": [],
   "source": [
    "dfl[0] = str(dfl[0])\n",
    "for i in range(1,len(dfl)):\n",
    "    dfl[i] = round(dfl[i],4)"
   ]
  },
  {
   "cell_type": "code",
   "execution_count": 64,
   "id": "chinese-imperial",
   "metadata": {},
   "outputs": [
    {
     "data": {
      "text/plain": [
       "'2021-10-12 00:00:00'"
      ]
     },
     "execution_count": 64,
     "metadata": {},
     "output_type": "execute_result"
    }
   ],
   "source": [
    "dfl[0]"
   ]
  },
  {
   "cell_type": "code",
   "execution_count": 65,
   "id": "younger-storage",
   "metadata": {},
   "outputs": [
    {
     "data": {
      "text/plain": [
       "['2021-10-12 00:00:00', 295.34, 295.44, 292.35, 292.88]"
      ]
     },
     "execution_count": 65,
     "metadata": {},
     "output_type": "execute_result"
    }
   ],
   "source": [
    "dfl"
   ]
  },
  {
   "cell_type": "code",
   "execution_count": 66,
   "id": "rocky-beads",
   "metadata": {},
   "outputs": [],
   "source": [
    "s = str(dfl).replace('[','').replace(']','')"
   ]
  },
  {
   "cell_type": "code",
   "execution_count": 67,
   "id": "superior-election",
   "metadata": {},
   "outputs": [
    {
     "data": {
      "text/plain": [
       "\"'2021-10-12 00:00:00', 295.34, 295.44, 292.35, 292.88\""
      ]
     },
     "execution_count": 67,
     "metadata": {},
     "output_type": "execute_result"
    }
   ],
   "source": [
    "s"
   ]
  },
  {
   "cell_type": "code",
   "execution_count": 68,
   "id": "reported-peripheral",
   "metadata": {},
   "outputs": [
    {
     "data": {
      "text/plain": [
       "53"
      ]
     },
     "execution_count": 68,
     "metadata": {},
     "output_type": "execute_result"
    }
   ],
   "source": [
    "len(s)"
   ]
  },
  {
   "cell_type": "code",
   "execution_count": 74,
   "id": "assumed-england",
   "metadata": {},
   "outputs": [],
   "source": [
    "insert = 'INSERT IGNORE INTO '+str(ticker)+ \"(\"+s + \");\""
   ]
  },
  {
   "cell_type": "code",
   "execution_count": 75,
   "id": "direct-pantyhose",
   "metadata": {},
   "outputs": [
    {
     "data": {
      "text/plain": [
       "\"INSERT IGNORE INTO MSFT('2021-10-12 00:00:00', 295.34, 295.44, 292.35, 292.88);\""
      ]
     },
     "execution_count": 75,
     "metadata": {},
     "output_type": "execute_result"
    }
   ],
   "source": [
    "insert"
   ]
  },
  {
   "cell_type": "code",
   "execution_count": 7,
   "id": "comparable-expansion",
   "metadata": {},
   "outputs": [
    {
     "data": {
      "text/plain": [
       "32"
      ]
     },
     "execution_count": 7,
     "metadata": {},
     "output_type": "execute_result"
    }
   ],
   "source": [
    "len(hist.index)"
   ]
  },
  {
   "cell_type": "code",
   "execution_count": 8,
   "id": "narrative-restoration",
   "metadata": {},
   "outputs": [],
   "source": [
    "df = hist.copy()"
   ]
  },
  {
   "cell_type": "code",
   "execution_count": 9,
   "id": "jewish-negotiation",
   "metadata": {},
   "outputs": [],
   "source": [
    "df.sort_values(['Date'],ascending=False,inplace=True)"
   ]
  },
  {
   "cell_type": "code",
   "execution_count": 10,
   "id": "competent-boulder",
   "metadata": {},
   "outputs": [
    {
     "data": {
      "text/html": [
       "<div>\n",
       "<style scoped>\n",
       "    .dataframe tbody tr th:only-of-type {\n",
       "        vertical-align: middle;\n",
       "    }\n",
       "\n",
       "    .dataframe tbody tr th {\n",
       "        vertical-align: top;\n",
       "    }\n",
       "\n",
       "    .dataframe thead th {\n",
       "        text-align: right;\n",
       "    }\n",
       "</style>\n",
       "<table border=\"1\" class=\"dataframe\">\n",
       "  <thead>\n",
       "    <tr style=\"text-align: right;\">\n",
       "      <th></th>\n",
       "      <th>Open</th>\n",
       "      <th>High</th>\n",
       "      <th>Low</th>\n",
       "      <th>Close</th>\n",
       "      <th>Volume</th>\n",
       "      <th>Dividends</th>\n",
       "      <th>Stock Splits</th>\n",
       "    </tr>\n",
       "    <tr>\n",
       "      <th>Date</th>\n",
       "      <th></th>\n",
       "      <th></th>\n",
       "      <th></th>\n",
       "      <th></th>\n",
       "      <th></th>\n",
       "      <th></th>\n",
       "      <th></th>\n",
       "    </tr>\n",
       "  </thead>\n",
       "  <tbody>\n",
       "    <tr>\n",
       "      <th>2021-10-06</th>\n",
       "      <td>285.779999</td>\n",
       "      <td>293.630005</td>\n",
       "      <td>285.509308</td>\n",
       "      <td>293.109985</td>\n",
       "      <td>26486196</td>\n",
       "      <td>0</td>\n",
       "      <td>0</td>\n",
       "    </tr>\n",
       "    <tr>\n",
       "      <th>2021-10-05</th>\n",
       "      <td>284.049988</td>\n",
       "      <td>290.399994</td>\n",
       "      <td>284.049988</td>\n",
       "      <td>288.760010</td>\n",
       "      <td>24993000</td>\n",
       "      <td>0</td>\n",
       "      <td>0</td>\n",
       "    </tr>\n",
       "    <tr>\n",
       "      <th>2021-10-04</th>\n",
       "      <td>287.399994</td>\n",
       "      <td>287.750000</td>\n",
       "      <td>280.250000</td>\n",
       "      <td>283.109985</td>\n",
       "      <td>31350700</td>\n",
       "      <td>0</td>\n",
       "      <td>0</td>\n",
       "    </tr>\n",
       "    <tr>\n",
       "      <th>2021-10-01</th>\n",
       "      <td>282.119995</td>\n",
       "      <td>289.980011</td>\n",
       "      <td>281.290009</td>\n",
       "      <td>289.100006</td>\n",
       "      <td>30086300</td>\n",
       "      <td>0</td>\n",
       "      <td>0</td>\n",
       "    </tr>\n",
       "    <tr>\n",
       "      <th>2021-09-30</th>\n",
       "      <td>285.709991</td>\n",
       "      <td>287.829987</td>\n",
       "      <td>281.619995</td>\n",
       "      <td>281.920013</td>\n",
       "      <td>32325800</td>\n",
       "      <td>0</td>\n",
       "      <td>0</td>\n",
       "    </tr>\n",
       "  </tbody>\n",
       "</table>\n",
       "</div>"
      ],
      "text/plain": [
       "                  Open        High         Low       Close    Volume  \\\n",
       "Date                                                                   \n",
       "2021-10-06  285.779999  293.630005  285.509308  293.109985  26486196   \n",
       "2021-10-05  284.049988  290.399994  284.049988  288.760010  24993000   \n",
       "2021-10-04  287.399994  287.750000  280.250000  283.109985  31350700   \n",
       "2021-10-01  282.119995  289.980011  281.290009  289.100006  30086300   \n",
       "2021-09-30  285.709991  287.829987  281.619995  281.920013  32325800   \n",
       "\n",
       "            Dividends  Stock Splits  \n",
       "Date                                 \n",
       "2021-10-06          0             0  \n",
       "2021-10-05          0             0  \n",
       "2021-10-04          0             0  \n",
       "2021-10-01          0             0  \n",
       "2021-09-30          0             0  "
      ]
     },
     "execution_count": 10,
     "metadata": {},
     "output_type": "execute_result"
    }
   ],
   "source": [
    "df.head()"
   ]
  },
  {
   "cell_type": "code",
   "execution_count": 11,
   "id": "generic-plymouth",
   "metadata": {},
   "outputs": [],
   "source": [
    "df['Rel Change(%) - 1 day']=round((df['Open']-df['Open'].shift(-1))/df['Open']*100,4)"
   ]
  },
  {
   "cell_type": "code",
   "execution_count": 12,
   "id": "quality-deputy",
   "metadata": {},
   "outputs": [],
   "source": [
    "df['Rel Change(%) - 7 day(1 week)']=round((df['Open']-df['Open'].shift(-7))/df['Open']*100,4)"
   ]
  },
  {
   "cell_type": "code",
   "execution_count": 13,
   "id": "large-harris",
   "metadata": {},
   "outputs": [],
   "source": [
    "df['Rel Change(%) - 30 day(1 month)']=round((df['Open']-df['Open'].shift(-30))/df['Open']*100,4)"
   ]
  },
  {
   "cell_type": "code",
   "execution_count": 14,
   "id": "available-department",
   "metadata": {},
   "outputs": [
    {
     "data": {
      "text/html": [
       "<div>\n",
       "<style scoped>\n",
       "    .dataframe tbody tr th:only-of-type {\n",
       "        vertical-align: middle;\n",
       "    }\n",
       "\n",
       "    .dataframe tbody tr th {\n",
       "        vertical-align: top;\n",
       "    }\n",
       "\n",
       "    .dataframe thead th {\n",
       "        text-align: right;\n",
       "    }\n",
       "</style>\n",
       "<table border=\"1\" class=\"dataframe\">\n",
       "  <thead>\n",
       "    <tr style=\"text-align: right;\">\n",
       "      <th></th>\n",
       "      <th>Open</th>\n",
       "      <th>High</th>\n",
       "      <th>Low</th>\n",
       "      <th>Close</th>\n",
       "      <th>Volume</th>\n",
       "      <th>Dividends</th>\n",
       "      <th>Stock Splits</th>\n",
       "      <th>Rel Change(%) - 1 day</th>\n",
       "      <th>Rel Change(%) - 7 day(1 week)</th>\n",
       "      <th>Rel Change(%) - 30 day(1 month)</th>\n",
       "    </tr>\n",
       "    <tr>\n",
       "      <th>Date</th>\n",
       "      <th></th>\n",
       "      <th></th>\n",
       "      <th></th>\n",
       "      <th></th>\n",
       "      <th></th>\n",
       "      <th></th>\n",
       "      <th></th>\n",
       "      <th></th>\n",
       "      <th></th>\n",
       "      <th></th>\n",
       "    </tr>\n",
       "  </thead>\n",
       "  <tbody>\n",
       "    <tr>\n",
       "      <th>2021-10-06</th>\n",
       "      <td>285.779999</td>\n",
       "      <td>293.630005</td>\n",
       "      <td>285.509308</td>\n",
       "      <td>293.109985</td>\n",
       "      <td>26486196</td>\n",
       "      <td>0</td>\n",
       "      <td>0</td>\n",
       "      <td>0.6054</td>\n",
       "      <td>-3.6252</td>\n",
       "      <td>-6.7324</td>\n",
       "    </tr>\n",
       "    <tr>\n",
       "      <th>2021-10-05</th>\n",
       "      <td>284.049988</td>\n",
       "      <td>290.399994</td>\n",
       "      <td>284.049988</td>\n",
       "      <td>288.760010</td>\n",
       "      <td>24993000</td>\n",
       "      <td>0</td>\n",
       "      <td>0</td>\n",
       "      <td>-1.1794</td>\n",
       "      <td>-4.9921</td>\n",
       "      <td>-6.7594</td>\n",
       "    </tr>\n",
       "    <tr>\n",
       "      <th>2021-10-04</th>\n",
       "      <td>287.399994</td>\n",
       "      <td>287.750000</td>\n",
       "      <td>280.250000</td>\n",
       "      <td>283.109985</td>\n",
       "      <td>31350700</td>\n",
       "      <td>0</td>\n",
       "      <td>0</td>\n",
       "      <td>1.8372</td>\n",
       "      <td>-3.9840</td>\n",
       "      <td>NaN</td>\n",
       "    </tr>\n",
       "    <tr>\n",
       "      <th>2021-10-01</th>\n",
       "      <td>282.119995</td>\n",
       "      <td>289.980011</td>\n",
       "      <td>281.290009</td>\n",
       "      <td>289.100006</td>\n",
       "      <td>30086300</td>\n",
       "      <td>0</td>\n",
       "      <td>0</td>\n",
       "      <td>-1.2725</td>\n",
       "      <td>-5.1787</td>\n",
       "      <td>NaN</td>\n",
       "    </tr>\n",
       "    <tr>\n",
       "      <th>2021-09-30</th>\n",
       "      <td>285.709991</td>\n",
       "      <td>287.829987</td>\n",
       "      <td>281.619995</td>\n",
       "      <td>281.920013</td>\n",
       "      <td>32325800</td>\n",
       "      <td>0</td>\n",
       "      <td>0</td>\n",
       "      <td>0.2135</td>\n",
       "      <td>-3.4931</td>\n",
       "      <td>NaN</td>\n",
       "    </tr>\n",
       "    <tr>\n",
       "      <th>2021-09-29</th>\n",
       "      <td>285.100006</td>\n",
       "      <td>286.769989</td>\n",
       "      <td>283.010010</td>\n",
       "      <td>284.000000</td>\n",
       "      <td>26353700</td>\n",
       "      <td>0</td>\n",
       "      <td>0</td>\n",
       "      <td>-1.6485</td>\n",
       "      <td>-3.9390</td>\n",
       "      <td>NaN</td>\n",
       "    </tr>\n",
       "    <tr>\n",
       "      <th>2021-09-28</th>\n",
       "      <td>289.799988</td>\n",
       "      <td>290.779999</td>\n",
       "      <td>282.750000</td>\n",
       "      <td>283.519989</td>\n",
       "      <td>43186200</td>\n",
       "      <td>0</td>\n",
       "      <td>0</td>\n",
       "      <td>-2.1877</td>\n",
       "      <td>-4.9586</td>\n",
       "      <td>NaN</td>\n",
       "    </tr>\n",
       "    <tr>\n",
       "      <th>2021-09-27</th>\n",
       "      <td>296.140015</td>\n",
       "      <td>296.470001</td>\n",
       "      <td>292.940002</td>\n",
       "      <td>294.170013</td>\n",
       "      <td>23571700</td>\n",
       "      <td>0</td>\n",
       "      <td>0</td>\n",
       "      <td>-0.7057</td>\n",
       "      <td>-2.5731</td>\n",
       "      <td>NaN</td>\n",
       "    </tr>\n",
       "    <tr>\n",
       "      <th>2021-09-24</th>\n",
       "      <td>298.230011</td>\n",
       "      <td>299.799988</td>\n",
       "      <td>296.929993</td>\n",
       "      <td>299.350006</td>\n",
       "      <td>14999000</td>\n",
       "      <td>0</td>\n",
       "      <td>0</td>\n",
       "      <td>-0.2079</td>\n",
       "      <td>-1.6866</td>\n",
       "      <td>NaN</td>\n",
       "    </tr>\n",
       "    <tr>\n",
       "      <th>2021-09-23</th>\n",
       "      <td>298.850006</td>\n",
       "      <td>300.899994</td>\n",
       "      <td>297.529999</td>\n",
       "      <td>299.559998</td>\n",
       "      <td>18604600</td>\n",
       "      <td>0</td>\n",
       "      <td>0</td>\n",
       "      <td>0.7094</td>\n",
       "      <td>-0.2376</td>\n",
       "      <td>NaN</td>\n",
       "    </tr>\n",
       "  </tbody>\n",
       "</table>\n",
       "</div>"
      ],
      "text/plain": [
       "                  Open        High         Low       Close    Volume  \\\n",
       "Date                                                                   \n",
       "2021-10-06  285.779999  293.630005  285.509308  293.109985  26486196   \n",
       "2021-10-05  284.049988  290.399994  284.049988  288.760010  24993000   \n",
       "2021-10-04  287.399994  287.750000  280.250000  283.109985  31350700   \n",
       "2021-10-01  282.119995  289.980011  281.290009  289.100006  30086300   \n",
       "2021-09-30  285.709991  287.829987  281.619995  281.920013  32325800   \n",
       "2021-09-29  285.100006  286.769989  283.010010  284.000000  26353700   \n",
       "2021-09-28  289.799988  290.779999  282.750000  283.519989  43186200   \n",
       "2021-09-27  296.140015  296.470001  292.940002  294.170013  23571700   \n",
       "2021-09-24  298.230011  299.799988  296.929993  299.350006  14999000   \n",
       "2021-09-23  298.850006  300.899994  297.529999  299.559998  18604600   \n",
       "\n",
       "            Dividends  Stock Splits  Rel Change(%) - 1 day  \\\n",
       "Date                                                         \n",
       "2021-10-06          0             0                 0.6054   \n",
       "2021-10-05          0             0                -1.1794   \n",
       "2021-10-04          0             0                 1.8372   \n",
       "2021-10-01          0             0                -1.2725   \n",
       "2021-09-30          0             0                 0.2135   \n",
       "2021-09-29          0             0                -1.6485   \n",
       "2021-09-28          0             0                -2.1877   \n",
       "2021-09-27          0             0                -0.7057   \n",
       "2021-09-24          0             0                -0.2079   \n",
       "2021-09-23          0             0                 0.7094   \n",
       "\n",
       "            Rel Change(%) - 7 day(1 week)  Rel Change(%) - 30 day(1 month)  \n",
       "Date                                                                        \n",
       "2021-10-06                        -3.6252                          -6.7324  \n",
       "2021-10-05                        -4.9921                          -6.7594  \n",
       "2021-10-04                        -3.9840                              NaN  \n",
       "2021-10-01                        -5.1787                              NaN  \n",
       "2021-09-30                        -3.4931                              NaN  \n",
       "2021-09-29                        -3.9390                              NaN  \n",
       "2021-09-28                        -4.9586                              NaN  \n",
       "2021-09-27                        -2.5731                              NaN  \n",
       "2021-09-24                        -1.6866                              NaN  \n",
       "2021-09-23                        -0.2376                              NaN  "
      ]
     },
     "execution_count": 14,
     "metadata": {},
     "output_type": "execute_result"
    }
   ],
   "source": [
    "df.head(10)"
   ]
  },
  {
   "cell_type": "code",
   "execution_count": 15,
   "id": "representative-shame",
   "metadata": {},
   "outputs": [],
   "source": [
    "# Saving as CSV\n",
    "df.to_csv(\"msft.csv\")"
   ]
  },
  {
   "cell_type": "code",
   "execution_count": null,
   "id": "wicked-september",
   "metadata": {},
   "outputs": [],
   "source": []
  }
 ],
 "metadata": {
  "kernelspec": {
   "display_name": "Python 3",
   "language": "python",
   "name": "python3"
  },
  "language_info": {
   "codemirror_mode": {
    "name": "ipython",
    "version": 3
   },
   "file_extension": ".py",
   "mimetype": "text/x-python",
   "name": "python",
   "nbconvert_exporter": "python",
   "pygments_lexer": "ipython3",
   "version": "3.9.1"
  }
 },
 "nbformat": 4,
 "nbformat_minor": 5
}
